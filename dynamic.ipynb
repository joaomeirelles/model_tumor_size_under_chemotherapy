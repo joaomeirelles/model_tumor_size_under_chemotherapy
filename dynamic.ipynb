{
 "cells": [
  {
   "cell_type": "markdown",
   "metadata": {},
   "source": [
    "# Simple model to predict tumor size under Cheomeoterapy\n",
    "\n",
    "I was diagnose with a 12cm Ewing's Arcoma on May/18. Since there, I'v been under cheomeoterapby (VDC+IE every 14days) and I got two new MRIs that showed significand and non-linear reduction in my tumor size. \n",
    "\n",
    "Between a discussion on how many chemeos cycles I should go by before starting the Radioterapy, I'm got curious in the probable size of my tumor during the next cycles.\n",
    "\n",
    "This simple model tries to predic the size of my tumor after the end of each chemoeteraphy cycle. Once cyle last for 4weeks, I'm assuming it to be one month. The only assumption I made is that the tumor reduction will follow a sigmoid curve, saturating around a tumor of size 0 (100% of reduction). "
   ]
  },
  {
   "cell_type": "markdown",
   "metadata": {},
   "source": [
    "### import libraries and define functions"
   ]
  },
  {
   "cell_type": "code",
   "execution_count": 307,
   "metadata": {},
   "outputs": [],
   "source": [
    "import numpy as np\n",
    "import pylab\n",
    "from scipy.optimize import curve_fit\n",
    "%matplotlib inline\n"
   ]
  },
  {
   "cell_type": "code",
   "execution_count": 281,
   "metadata": {
    "collapsed": true
   },
   "outputs": [],
   "source": [
    "def sigmoid(x, x0, k):\n",
    "     y = 1 / (1 + np.exp(-k*(x-x0)))\n",
    "     return y\n",
    "\n",
    "def takeClosest(myList, myNumber):\n",
    "    closest = myList[0]\n",
    "    for i in range(1, len(myList)):\n",
    "        if abs(myList[i] - myNumber) < abs(closest - myNumber):\n",
    "            closest = myList[i]\n",
    "            index = i\n",
    "    return index, closest"
   ]
  },
  {
   "cell_type": "markdown",
   "metadata": {
    "collapsed": true
   },
   "source": [
    "### input empirical data"
   ]
  },
  {
   "cell_type": "code",
   "execution_count": 207,
   "metadata": {
    "collapsed": true
   },
   "outputs": [],
   "source": [
    "timedata = np.array([0,   2,  3]) #month in which I got MRI control\n",
    "sizedata = np.array([12,  9,  6.5]) #tumor size observed during the MRIs\n",
    "reductiondata = [(sizedata[0] - x) / sizedata[0] for x in sizedata]#accumulated reduction tax from the original size \n",
    "#reductiondata = np.array([0.0,  0.3,  0.45]) "
   ]
  },
  {
   "cell_type": "markdown",
   "metadata": {},
   "source": [
    "### fit a logistic curve to the data"
   ]
  },
  {
   "cell_type": "code",
   "execution_count": 208,
   "metadata": {
    "scrolled": true
   },
   "outputs": [
    {
     "name": "stdout",
     "output_type": "stream",
     "text": [
      "[ 3.12212319  1.07138217]\n"
     ]
    }
   ],
   "source": [
    "popt, pcov = curve_fit(sigmoid, timedata, reductiondata)\n",
    "print(popt)"
   ]
  },
  {
   "cell_type": "code",
   "execution_count": 209,
   "metadata": {
    "collapsed": true
   },
   "outputs": [],
   "source": [
    "time = np.linspace(-1, 15, 1000)\n",
    "reduction = sigmoid(time, *popt)\n",
    "size_proportion = [1 - i for i in reduction]\n",
    "size = [12 * i for i in size_proportion]"
   ]
  },
  {
   "cell_type": "markdown",
   "metadata": {},
   "source": [
    "### PLOTS"
   ]
  },
  {
   "cell_type": "markdown",
   "metadata": {},
   "source": [
    "#### Tumor Reduction"
   ]
  },
  {
   "cell_type": "code",
   "execution_count": 306,
   "metadata": {},
   "outputs": [
    {
     "data": {
      "image/png": "[encoded data removed]",
      "text/plain": [
       "<matplotlib.figure.Figure at 0x7f4a13ad39b0>"
      ]
     },
     "metadata": {},
     "output_type": "display_data"
    }
   ],
   "source": [
    "pylab.plot(timedata, reductiondata, 'o', label='data')\n",
    "pylab.plot(time,reduction, label='model')\n",
    "pylab.xlim(-.2, 8)\n",
    "pylab.ylabel('tumor reduction [%]')\n",
    "pylab.xlabel('time [month]')\n",
    "pylab.title('tumor reduction')\n",
    "pylab.legend(loc='best')\n",
    "pylab.show()"
   ]
  },
  {
   "cell_type": "markdown",
   "metadata": {},
   "source": [
    "#### Tumor Size"
   ]
  },
  {
   "cell_type": "code",
   "execution_count": 216,
   "metadata": {
    "scrolled": true
   },
   "outputs": [
    {
     "data": {
      "image/png": "[encoded data removed]",
      "text/plain": [
       "<matplotlib.figure.Figure at 0x7f4a13e596d8>"
      ]
     },
     "metadata": {},
     "output_type": "display_data"
    }
   ],
   "source": [
    "pylab.plot(timedata, sizedata, 'ro', label='data')\n",
    "pylab.plot(time,size, label='model')\n",
    "pylab.xlim(-.2, 8)\n",
    "pylab.ylabel('tumor size [cm]')\n",
    "pylab.xlabel('time [month]')\n",
    "pylab.title('tumor size')\n",
    "pylab.legend(loc='best')\n",
    "pylab.show()"
   ]
  },
  {
   "cell_type": "code",
   "execution_count": 279,
   "metadata": {},
   "outputs": [],
   "source": []
  },
  {
   "cell_type": "code",
   "execution_count": 288,
   "metadata": {},
   "outputs": [
    {
     "name": "stdout",
     "output_type": "stream",
     "text": [
      "tumor size in cm after -0.0 month: 11.59\n",
      "tumor size in cm after 1.0 month: 10.88\n",
      "tumor size in cm after 2.0 month: 9.24\n",
      "tumor size in cm after 3.0 month: 6.38\n",
      "tumor size in cm after 4.0 month: 3.38\n",
      "tumor size in cm after 5.0 month: 1.41\n",
      "tumor size in cm after 6.0 month: 0.53\n",
      "tumor size in cm after 7.0 month: 0.19\n",
      "tumor size in cm after 8.0 month: 0.06\n",
      "tumor size in cm after 9.0 month: 0.02\n",
      "tumor size in cm after 10.0 month: 0.01\n"
     ]
    }
   ],
   "source": [
    "for month in [0,1,2,3,4,5,6,7,8,9,10]:\n",
    "    print(\"tumor size in cm after\", round(takeClosest(time, month)[1]) ,\"month:\",round(size[takeClosest(time, month)[0]],2),)"
   ]
  },
  {
   "cell_type": "code",
   "execution_count": null,
   "metadata": {
    "collapsed": true
   },
   "outputs": [],
   "source": []
  },
  {
   "cell_type": "markdown",
   "metadata": {},
   "source": [
    "#### The model predics: \n",
    "\n",
    "1.4cm tumor at the end of 5th cycle of chemo\n",
    "\n",
    "0.5cm tumor at the end of 6th cycle of chemo\n"
   ]
  },
  {
   "cell_type": "code",
   "execution_count": null,
   "metadata": {
    "collapsed": true
   },
   "outputs": [],
   "source": []
  },
  {
   "cell_type": "code",
   "execution_count": null,
   "metadata": {
    "collapsed": true
   },
   "outputs": [],
   "source": []
  },
  {
   "cell_type": "markdown",
   "metadata": {},
   "source": [
    "# sandbox"
   ]
  },
  {
   "cell_type": "markdown",
   "metadata": {},
   "source": [
    "## model 2"
   ]
  },
  {
   "cell_type": "code",
   "execution_count": 53,
   "metadata": {},
   "outputs": [
    {
     "name": "stderr",
     "output_type": "stream",
     "text": [
      "/home/jm/anaconda3/lib/python3.5/site-packages/numpy/lib/polynomial.py:595: RankWarning: Polyfit may be poorly conditioned\n",
      "  warnings.warn(msg, RankWarning)\n"
     ]
    },
    {
     "data": {
      "image/png": "[encoded data removed]",
      "text/plain": [
       "<matplotlib.figure.Figure at 0x7f4a13babb70>"
      ]
     },
     "metadata": {},
     "output_type": "display_data"
    }
   ],
   "source": [
    "import numpy as np\n",
    "import matplotlib.pyplot as plt\n",
    "\n",
    "points = np.array([(0, 12), (2, 9), (3, 6.5)])\n",
    "# get x and y vectors\n",
    "x = points[:,0]\n",
    "y = points[:,1]\n",
    "\n",
    "# calculate polynomial\n",
    "z = np.polyfit(x, y, 3)\n",
    "f = np.poly1d(z)\n",
    "\n",
    "# calculate new x's and y's\n",
    "x_new = np.linspace(x[0], 6.0, 50)\n",
    "y_new = f(x_new)\n",
    "\n",
    "plt.plot(x,y,'o', x_new, y_new)\n",
    "#plt.xlim([x[0]-1, x[-1] + 1 ])\n",
    "#plot.ylim(-1, 6)\n",
    "plt.show()"
   ]
  },
  {
   "cell_type": "code",
   "execution_count": null,
   "metadata": {
    "collapsed": true
   },
   "outputs": [],
   "source": []
  }
 ],
 "metadata": {
  "anaconda-cloud": {},
  "kernelspec": {
   "display_name": "Python [Root]",
   "language": "python",
   "name": "Python [Root]"
  },
  "language_info": {
   "codemirror_mode": {
    "name": "ipython",
    "version": 3
   },
   "file_extension": ".py",
   "mimetype": "text/x-python",
   "name": "python",
   "nbconvert_exporter": "python",
   "pygments_lexer": "ipython3",
   "version": "3.5.2"
  }
 },
 "nbformat": 4,
 "nbformat_minor": 1
}
